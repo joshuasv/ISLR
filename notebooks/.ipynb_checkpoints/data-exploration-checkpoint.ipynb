{
 "cells": [
  {
   "cell_type": "markdown",
   "id": "c144a9c9-15f1-4aec-a5cc-522c5a546802",
   "metadata": {},
   "source": [
    "# Data exploration"
   ]
  },
  {
   "cell_type": "code",
   "execution_count": 106,
   "id": "490ea40c-fec1-4010-831c-a4578c6e0ca1",
   "metadata": {
    "tags": []
   },
   "outputs": [],
   "source": [
    "from pathlib import Path\n",
    "\n",
    "import matplotlib.pyplot as plt\n",
    "import pandas as pd\n",
    "import numpy as np\n",
    "from tqdm.notebook import tqdm\n",
    "tqdm.pandas()"
   ]
  },
  {
   "cell_type": "code",
   "execution_count": 92,
   "id": "3e33dd0b-5e02-428c-bc61-49ccdd964680",
   "metadata": {
    "tags": []
   },
   "outputs": [
    {
     "data": {
      "text/html": [
       "<div>\n",
       "<style scoped>\n",
       "    .dataframe tbody tr th:only-of-type {\n",
       "        vertical-align: middle;\n",
       "    }\n",
       "\n",
       "    .dataframe tbody tr th {\n",
       "        vertical-align: top;\n",
       "    }\n",
       "\n",
       "    .dataframe thead th {\n",
       "        text-align: right;\n",
       "    }\n",
       "</style>\n",
       "<table border=\"1\" class=\"dataframe\">\n",
       "  <thead>\n",
       "    <tr style=\"text-align: right;\">\n",
       "      <th></th>\n",
       "      <th>path</th>\n",
       "      <th>participant_id</th>\n",
       "      <th>sign</th>\n",
       "    </tr>\n",
       "    <tr>\n",
       "      <th>sequence_id</th>\n",
       "      <th></th>\n",
       "      <th></th>\n",
       "      <th></th>\n",
       "    </tr>\n",
       "  </thead>\n",
       "  <tbody>\n",
       "    <tr>\n",
       "      <th>1000035562</th>\n",
       "      <td>train_landmark_files/26734/1000035562.parquet</td>\n",
       "      <td>26734</td>\n",
       "      <td>blow</td>\n",
       "    </tr>\n",
       "    <tr>\n",
       "      <th>1000106739</th>\n",
       "      <td>train_landmark_files/28656/1000106739.parquet</td>\n",
       "      <td>28656</td>\n",
       "      <td>wait</td>\n",
       "    </tr>\n",
       "    <tr>\n",
       "      <th>100015657</th>\n",
       "      <td>train_landmark_files/16069/100015657.parquet</td>\n",
       "      <td>16069</td>\n",
       "      <td>cloud</td>\n",
       "    </tr>\n",
       "    <tr>\n",
       "      <th>1000210073</th>\n",
       "      <td>train_landmark_files/25571/1000210073.parquet</td>\n",
       "      <td>25571</td>\n",
       "      <td>bird</td>\n",
       "    </tr>\n",
       "    <tr>\n",
       "      <th>1000240708</th>\n",
       "      <td>train_landmark_files/62590/1000240708.parquet</td>\n",
       "      <td>62590</td>\n",
       "      <td>owie</td>\n",
       "    </tr>\n",
       "  </tbody>\n",
       "</table>\n",
       "</div>"
      ],
      "text/plain": [
       "                                                      path  participant_id  \\\n",
       "sequence_id                                                                  \n",
       "1000035562   train_landmark_files/26734/1000035562.parquet           26734   \n",
       "1000106739   train_landmark_files/28656/1000106739.parquet           28656   \n",
       "100015657     train_landmark_files/16069/100015657.parquet           16069   \n",
       "1000210073   train_landmark_files/25571/1000210073.parquet           25571   \n",
       "1000240708   train_landmark_files/62590/1000240708.parquet           62590   \n",
       "\n",
       "              sign  \n",
       "sequence_id         \n",
       "1000035562    blow  \n",
       "1000106739    wait  \n",
       "100015657    cloud  \n",
       "1000210073    bird  \n",
       "1000240708    owie  "
      ]
     },
     "execution_count": 92,
     "metadata": {},
     "output_type": "execute_result"
    }
   ],
   "source": [
    "# Read dataset\n",
    "\n",
    "class Cfg:\n",
    "    RANDOM_STATE = 2023\n",
    "    INPUT_ROOT = Path('/home/gpu/Kaggle/GOOGLE-ASL/data/raw')\n",
    "    INDEX_MAP_FILE = INPUT_ROOT / 'sign_to_prediction_index_map.json'\n",
    "    TRAN_FILE = INPUT_ROOT / 'train.csv'\n",
    "    INDEX = 'sequence_id'\n",
    "    ROW_ID = 'row_id'\n",
    "\n",
    "def read_train(file_path=Cfg.TRAN_FILE):\n",
    "    \"\"\"Reads the train csv as pandas data frame.\"\"\"\n",
    "    return pd.read_csv(file_path).set_index(Cfg.INDEX)\n",
    "\n",
    "def read_landmark_data_by_path(file_path, input_root=Cfg.INPUT_ROOT):\n",
    "    \"\"\"Reads landmak data by the given file path.\"\"\"\n",
    "    data = pd.read_parquet(input_root / file_path)\n",
    "    return data.set_index(Cfg.ROW_ID)\n",
    "\n",
    "\n",
    "data = read_train()\n",
    "data.head()"
   ]
  },
  {
   "cell_type": "markdown",
   "id": "531c8b9b-3099-4f1c-bef2-e7e9c5f2df18",
   "metadata": {},
   "source": [
    "# Participants\n",
    "\n",
    "There are a total of 21 different participants.\n",
    "\n",
    "Each of them has signed a mean of 4499 sequences, with a maximum difference of 503 signed sequences between participants. It can be considered balanced in terms of signers."
   ]
  },
  {
   "cell_type": "code",
   "execution_count": 23,
   "id": "04fbd1e2-4d67-44e3-8f2a-eb0b5482c07b",
   "metadata": {
    "tags": []
   },
   "outputs": [
    {
     "data": {
      "text/plain": [
       "21"
      ]
     },
     "execution_count": 23,
     "metadata": {},
     "output_type": "execute_result"
    }
   ],
   "source": [
    "# Number of participants\n",
    "\n",
    "num_participants = len(data.participant_id.unique())\n",
    "num_participants"
   ]
  },
  {
   "cell_type": "code",
   "execution_count": 25,
   "id": "b60ee19e-9dba-4bbc-83cc-3819bb3ff621",
   "metadata": {
    "tags": []
   },
   "outputs": [
    {
     "data": {
      "text/plain": [
       "(3338, 4968, 4498.9047619047615, 502.8928220567385)"
      ]
     },
     "execution_count": 25,
     "metadata": {},
     "output_type": "execute_result"
    }
   ],
   "source": [
    "# Distribution of participants per sequence\n",
    "\n",
    "participant_value_counts = data.participant_id.value_counts()\n",
    "participant_value_counts.min(), participant_value_counts.max(), participant_value_counts.mean(), participant_value_counts.std()"
   ]
  },
  {
   "cell_type": "markdown",
   "id": "61ce005c-ed07-4a07-9b03-66252775cbff",
   "metadata": {},
   "source": [
    "# Signs\n",
    "\n",
    "There are 250 different signs.\n",
    "\n",
    "In terms of samples per sign they are well balanced, with a mean of 377 samples per sign."
   ]
  },
  {
   "cell_type": "code",
   "execution_count": 9,
   "id": "23130edb-331e-4990-95b1-8325ef8f8587",
   "metadata": {
    "tags": []
   },
   "outputs": [
    {
     "data": {
      "text/plain": [
       "250"
      ]
     },
     "execution_count": 9,
     "metadata": {},
     "output_type": "execute_result"
    }
   ],
   "source": [
    "# Number of signs\n",
    "\n",
    "num_signs = len(data.sign.unique())\n",
    "num_signs"
   ]
  },
  {
   "cell_type": "code",
   "execution_count": 22,
   "id": "96fc1df1-0ada-45cb-8206-6a65a7770076",
   "metadata": {
    "tags": []
   },
   "outputs": [
    {
     "data": {
      "text/plain": [
       "(299, 415, 377.908, 19.356537293638034)"
      ]
     },
     "execution_count": 22,
     "metadata": {},
     "output_type": "execute_result"
    }
   ],
   "source": [
    "# Distribution of examples per sign\n",
    "\n",
    "sing_value_counts = data.sign.value_counts()\n",
    "sing_value_counts.min(), sing_value_counts.max(), sing_value_counts.values.mean(), sing_value_counts.values.std()"
   ]
  },
  {
   "cell_type": "markdown",
   "id": "6f18df2c-e541-488d-838e-72869329788c",
   "metadata": {},
   "source": [
    "# Sequences\n",
    "\n",
    "There are a total of 94477 sequences.\n",
    "\n",
    "They have a mean of 38 frames, being the maximum difference of 44 frames.\n",
    "\n",
    "All sequences have pose and face. On the other hand, right and left hand are missing almost half of the time."
   ]
  },
  {
   "cell_type": "code",
   "execution_count": 89,
   "id": "b31eb167-de3e-4e2a-aab2-79a6ffdd282d",
   "metadata": {
    "tags": []
   },
   "outputs": [
    {
     "data": {
      "text/plain": [
       "94477"
      ]
     },
     "execution_count": 89,
     "metadata": {},
     "output_type": "execute_result"
    }
   ],
   "source": [
    "# Number of sequences\n",
    "\n",
    "num_seqs = len(data)\n",
    "num_seqs"
   ]
  },
  {
   "cell_type": "code",
   "execution_count": 114,
   "id": "850a6aab-d5ff-4500-b624-7cc304ac413b",
   "metadata": {
    "tags": []
   },
   "outputs": [
    {
     "data": {
      "text/plain": [
       "(2, 537, 37.93502122209638, 44.17706901369128)"
      ]
     },
     "execution_count": 114,
     "metadata": {},
     "output_type": "execute_result"
    }
   ],
   "source": [
    "# Duration of sequences\n",
    "\n",
    "def count_seq(path):\n",
    "    return len(read_landmark_data_by_path(path).frame.unique())\n",
    "    \n",
    "# data['n_frames'] = data.path.progress_apply(count_seq) # Takes 26:46 mins to process\n",
    "# data.to_csv('edata.csv')\n",
    "\n",
    "data.n_frames.min(), data.n_frames.max(), data.n_frames.mean(), data.n_frames.std()"
   ]
  },
  {
   "cell_type": "code",
   "execution_count": 172,
   "id": "80323ebc-ab1e-4148-91ff-3f6ad90e484a",
   "metadata": {
    "tags": []
   },
   "outputs": [],
   "source": [
    "# Presence/abscence of joints\n",
    "\n",
    "def has_joint(row):\n",
    "    seq = read_landmark_data_by_path(row.path)\n",
    "    vals = (seq.groupby('type')[['x','y','z']].sum() != 0.0).all(axis=1)\n",
    "    row['has_face'] = vals['face']\n",
    "    row['has_pose'] = vals['pose']\n",
    "    row['has_right_hand'] = vals['right_hand']\n",
    "    row['has_left_hand'] = vals['left_hand']\n",
    "    \n",
    "    return row\n",
    "\n",
    "# data = data.progress_apply(has_joint, axis=1) # Took 22:47 min to process\n",
    "# data.to_csv('edata.csv')"
   ]
  },
  {
   "cell_type": "code",
   "execution_count": 204,
   "id": "4337a068-0ab1-4a7b-b7a7-85f6ab54a54f",
   "metadata": {
    "tags": []
   },
   "outputs": [
    {
     "data": {
      "image/png": "[encoded data removed]",
      "text/plain": [
       "<Figure size 640x480 with 1 Axes>"
      ]
     },
     "metadata": {},
     "output_type": "display_data"
    }
   ],
   "source": [
    "species = ('has_face', 'has_pose', 'has_left_hand', 'has_right_hand')\n",
    "face_counts = data.has_face.value_counts()\n",
    "pose_counts = data.has_pose.value_counts()\n",
    "rhand_counts = data.has_right_hand.value_counts()\n",
    "lhand_counts = data.has_left_hand.value_counts()\n",
    "penguin_means = {\n",
    "    'True': (face_counts.values[0], pose_counts[0], lhand_counts.values[0], rhand_counts.values[0]),\n",
    "    'False': (face_counts.values[1], 0, lhand_counts.values[1], rhand_counts.values[1]),\n",
    "}\n",
    "\n",
    "x = np.arange(len(species))  # the label locations\n",
    "width = 0.25  # the width of the bars\n",
    "multiplier = 0\n",
    "\n",
    "fig, ax = plt.subplots(layout='constrained')\n",
    "\n",
    "for attribute, measurement in penguin_means.items():\n",
    "    offset = width * multiplier\n",
    "    rects = ax.bar(x + offset, measurement, width, label=attribute)\n",
    "    ax.bar_label(rects, padding=3)\n",
    "    multiplier += 1\n",
    "\n",
    "# Add some text for labels, title and custom x-axis tick labels, etc.\n",
    "ax.set_ylabel('# samples')\n",
    "ax.set_title('Sequences landmarks presence')\n",
    "ax.set_xticks(x + width, species)\n",
    "ax.legend(loc='upper right', ncols=3)\n",
    "\n",
    "plt.show()"
   ]
  },
  {
   "cell_type": "code",
   "execution_count": 229,
   "id": "416bd22d-359f-4442-b6bc-69f2d6f8799d",
   "metadata": {
    "tags": []
   },
   "outputs": [
    {
     "data": {
      "text/html": [
       "<div>\n",
       "<style scoped>\n",
       "    .dataframe tbody tr th:only-of-type {\n",
       "        vertical-align: middle;\n",
       "    }\n",
       "\n",
       "    .dataframe tbody tr th {\n",
       "        vertical-align: top;\n",
       "    }\n",
       "\n",
       "    .dataframe thead th {\n",
       "        text-align: right;\n",
       "    }\n",
       "</style>\n",
       "<table border=\"1\" class=\"dataframe\">\n",
       "  <thead>\n",
       "    <tr style=\"text-align: right;\">\n",
       "      <th></th>\n",
       "      <th>x</th>\n",
       "    </tr>\n",
       "    <tr>\n",
       "      <th>type</th>\n",
       "      <th></th>\n",
       "    </tr>\n",
       "  </thead>\n",
       "  <tbody>\n",
       "    <tr>\n",
       "      <th>face</th>\n",
       "      <td>0</td>\n",
       "    </tr>\n",
       "    <tr>\n",
       "      <th>left_hand</th>\n",
       "      <td>483</td>\n",
       "    </tr>\n",
       "    <tr>\n",
       "      <th>pose</th>\n",
       "      <td>0</td>\n",
       "    </tr>\n",
       "    <tr>\n",
       "      <th>right_hand</th>\n",
       "      <td>252</td>\n",
       "    </tr>\n",
       "  </tbody>\n",
       "</table>\n",
       "</div>"
      ],
      "text/plain": [
       "              x\n",
       "type           \n",
       "face          0\n",
       "left_hand   483\n",
       "pose          0\n",
       "right_hand  252"
      ]
     },
     "execution_count": 229,
     "metadata": {},
     "output_type": "execute_result"
    }
   ],
   "source": [
    "seq.groupby(['type'], dropna=False)[['x','y','z']].agg({'x': lambda x: x.isnull().sum()})"
   ]
  },
  {
   "cell_type": "code",
   "execution_count": 223,
   "id": "152df990-1232-494e-9103-a74e36dae593",
   "metadata": {
    "tags": []
   },
   "outputs": [
    {
     "ename": "NameError",
     "evalue": "name 'df' is not defined",
     "output_type": "error",
     "traceback": [
      "\u001b[0;31m---------------------------------------------------------------------------\u001b[0m",
      "\u001b[0;31mNameError\u001b[0m                                 Traceback (most recent call last)",
      "Cell \u001b[0;32mIn[223], line 1\u001b[0m\n\u001b[0;32m----> 1\u001b[0m \u001b[43mdf\u001b[49m[df\u001b[38;5;241m.\u001b[39mA \u001b[38;5;241m==\u001b[39m \u001b[38;5;124m'\u001b[39m\u001b[38;5;124mfoo\u001b[39m\u001b[38;5;124m'\u001b[39m]\u001b[38;5;241m.\u001b[39mgroupby(\u001b[38;5;124m'\u001b[39m\u001b[38;5;124mb\u001b[39m\u001b[38;5;124m'\u001b[39m)\u001b[38;5;241m.\u001b[39magg({\u001b[38;5;124m'\u001b[39m\u001b[38;5;124mC\u001b[39m\u001b[38;5;124m'\u001b[39m: \u001b[38;5;28;01mlambda\u001b[39;00m x: x\u001b[38;5;241m.\u001b[39misnull()\u001b[38;5;241m.\u001b[39msum()})\n",
      "\u001b[0;31mNameError\u001b[0m: name 'df' is not defined"
     ]
    }
   ],
   "source": [
    "df[df.A == 'foo'].groupby('b').agg({'C': lambda x: x.isnull().sum()})"
   ]
  }
 ],
 "metadata": {
  "kernelspec": {
   "display_name": "google-islr",
   "language": "python",
   "name": "google-islr"
  },
  "language_info": {
   "codemirror_mode": {
    "name": "ipython",
    "version": 3
   },
   "file_extension": ".py",
   "mimetype": "text/x-python",
   "name": "python",
   "nbconvert_exporter": "python",
   "pygments_lexer": "ipython3",
   "version": "3.10.6"
  }
 },
 "nbformat": 4,
 "nbformat_minor": 5
}
